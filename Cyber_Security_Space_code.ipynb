{
 "cells": [
  {
   "cell_type": "code",
   "execution_count": 1,
   "id": "bcd40c39",
   "metadata": {},
   "outputs": [],
   "source": [
    "import numpy as np\n",
    "import pandas as pd\n",
    "import tensorflow as tf\n",
    "from sklearn.model_selection import train_test_split\n",
    "from tensorflow import keras"
   ]
  },
  {
   "cell_type": "code",
   "execution_count": 2,
   "id": "ccda8277",
   "metadata": {},
   "outputs": [],
   "source": [
    "#Loading dataset values\n",
    "dfrm = pd.read_csv(r\"C:\\\\Gokul\\Cyber_Security_Space_Data.csv\")"
   ]
  },
  {
   "cell_type": "code",
   "execution_count": 3,
   "id": "167264e8",
   "metadata": {},
   "outputs": [
    {
     "data": {
      "text/html": [
       "<div>\n",
       "<style scoped>\n",
       "    .dataframe tbody tr th:only-of-type {\n",
       "        vertical-align: middle;\n",
       "    }\n",
       "\n",
       "    .dataframe tbody tr th {\n",
       "        vertical-align: top;\n",
       "    }\n",
       "\n",
       "    .dataframe thead th {\n",
       "        text-align: right;\n",
       "    }\n",
       "</style>\n",
       "<table border=\"1\" class=\"dataframe\">\n",
       "  <thead>\n",
       "    <tr style=\"text-align: right;\">\n",
       "      <th></th>\n",
       "      <th>objid</th>\n",
       "      <th>ra</th>\n",
       "      <th>dec</th>\n",
       "      <th>u</th>\n",
       "      <th>g</th>\n",
       "      <th>r</th>\n",
       "      <th>i</th>\n",
       "      <th>z</th>\n",
       "      <th>run</th>\n",
       "      <th>rerun</th>\n",
       "      <th>camcol</th>\n",
       "      <th>field</th>\n",
       "      <th>specobjid</th>\n",
       "      <th>class</th>\n",
       "      <th>redshift</th>\n",
       "      <th>plate</th>\n",
       "      <th>mjd</th>\n",
       "      <th>fiberid</th>\n",
       "    </tr>\n",
       "  </thead>\n",
       "  <tbody>\n",
       "    <tr>\n",
       "      <th>0</th>\n",
       "      <td>1.237650e+18</td>\n",
       "      <td>183.531326</td>\n",
       "      <td>0.089693</td>\n",
       "      <td>19.47406</td>\n",
       "      <td>17.04240</td>\n",
       "      <td>15.94699</td>\n",
       "      <td>15.50342</td>\n",
       "      <td>15.22531</td>\n",
       "      <td>752</td>\n",
       "      <td>301</td>\n",
       "      <td>4</td>\n",
       "      <td>267</td>\n",
       "      <td>3.722360e+18</td>\n",
       "      <td>STAR</td>\n",
       "      <td>-0.000009</td>\n",
       "      <td>3306</td>\n",
       "      <td>54922</td>\n",
       "      <td>491</td>\n",
       "    </tr>\n",
       "    <tr>\n",
       "      <th>1</th>\n",
       "      <td>1.237650e+18</td>\n",
       "      <td>183.598370</td>\n",
       "      <td>0.135285</td>\n",
       "      <td>18.66280</td>\n",
       "      <td>17.21449</td>\n",
       "      <td>16.67637</td>\n",
       "      <td>16.48922</td>\n",
       "      <td>16.39150</td>\n",
       "      <td>752</td>\n",
       "      <td>301</td>\n",
       "      <td>4</td>\n",
       "      <td>267</td>\n",
       "      <td>3.638140e+17</td>\n",
       "      <td>STAR</td>\n",
       "      <td>-0.000055</td>\n",
       "      <td>323</td>\n",
       "      <td>51615</td>\n",
       "      <td>541</td>\n",
       "    </tr>\n",
       "    <tr>\n",
       "      <th>2</th>\n",
       "      <td>1.237650e+18</td>\n",
       "      <td>183.680207</td>\n",
       "      <td>0.126185</td>\n",
       "      <td>19.38298</td>\n",
       "      <td>18.19169</td>\n",
       "      <td>17.47428</td>\n",
       "      <td>17.08732</td>\n",
       "      <td>16.80125</td>\n",
       "      <td>752</td>\n",
       "      <td>301</td>\n",
       "      <td>4</td>\n",
       "      <td>268</td>\n",
       "      <td>3.232740e+17</td>\n",
       "      <td>GALAXY</td>\n",
       "      <td>0.123111</td>\n",
       "      <td>287</td>\n",
       "      <td>52023</td>\n",
       "      <td>513</td>\n",
       "    </tr>\n",
       "    <tr>\n",
       "      <th>3</th>\n",
       "      <td>1.237650e+18</td>\n",
       "      <td>183.870529</td>\n",
       "      <td>0.049911</td>\n",
       "      <td>17.76536</td>\n",
       "      <td>16.60272</td>\n",
       "      <td>16.16116</td>\n",
       "      <td>15.98233</td>\n",
       "      <td>15.90438</td>\n",
       "      <td>752</td>\n",
       "      <td>301</td>\n",
       "      <td>4</td>\n",
       "      <td>269</td>\n",
       "      <td>3.722370e+18</td>\n",
       "      <td>STAR</td>\n",
       "      <td>-0.000111</td>\n",
       "      <td>3306</td>\n",
       "      <td>54922</td>\n",
       "      <td>510</td>\n",
       "    </tr>\n",
       "    <tr>\n",
       "      <th>4</th>\n",
       "      <td>1.237650e+18</td>\n",
       "      <td>183.883288</td>\n",
       "      <td>0.102557</td>\n",
       "      <td>17.55025</td>\n",
       "      <td>16.26342</td>\n",
       "      <td>16.43869</td>\n",
       "      <td>16.55492</td>\n",
       "      <td>16.61326</td>\n",
       "      <td>752</td>\n",
       "      <td>301</td>\n",
       "      <td>4</td>\n",
       "      <td>269</td>\n",
       "      <td>3.722370e+18</td>\n",
       "      <td>STAR</td>\n",
       "      <td>0.000590</td>\n",
       "      <td>3306</td>\n",
       "      <td>54922</td>\n",
       "      <td>512</td>\n",
       "    </tr>\n",
       "  </tbody>\n",
       "</table>\n",
       "</div>"
      ],
      "text/plain": [
       "          objid          ra       dec         u         g         r         i  \\\n",
       "0  1.237650e+18  183.531326  0.089693  19.47406  17.04240  15.94699  15.50342   \n",
       "1  1.237650e+18  183.598370  0.135285  18.66280  17.21449  16.67637  16.48922   \n",
       "2  1.237650e+18  183.680207  0.126185  19.38298  18.19169  17.47428  17.08732   \n",
       "3  1.237650e+18  183.870529  0.049911  17.76536  16.60272  16.16116  15.98233   \n",
       "4  1.237650e+18  183.883288  0.102557  17.55025  16.26342  16.43869  16.55492   \n",
       "\n",
       "          z  run  rerun  camcol  field     specobjid   class  redshift  plate  \\\n",
       "0  15.22531  752    301       4    267  3.722360e+18    STAR -0.000009   3306   \n",
       "1  16.39150  752    301       4    267  3.638140e+17    STAR -0.000055    323   \n",
       "2  16.80125  752    301       4    268  3.232740e+17  GALAXY  0.123111    287   \n",
       "3  15.90438  752    301       4    269  3.722370e+18    STAR -0.000111   3306   \n",
       "4  16.61326  752    301       4    269  3.722370e+18    STAR  0.000590   3306   \n",
       "\n",
       "     mjd  fiberid  \n",
       "0  54922      491  \n",
       "1  51615      541  \n",
       "2  52023      513  \n",
       "3  54922      510  \n",
       "4  54922      512  "
      ]
     },
     "execution_count": 3,
     "metadata": {},
     "output_type": "execute_result"
    }
   ],
   "source": [
    "dfrm.head()"
   ]
  },
  {
   "cell_type": "code",
   "execution_count": 4,
   "id": "f7b292ff",
   "metadata": {},
   "outputs": [],
   "source": [
    "def dependent_transform(form):\n",
    "    if form=='GALAXY':\n",
    "        return 0\n",
    "    elif form=='STAR':\n",
    "        return 1\n",
    "    else:\n",
    "        return 2"
   ]
  },
  {
   "cell_type": "code",
   "execution_count": 5,
   "id": "00cb586d",
   "metadata": {},
   "outputs": [],
   "source": [
    "#Implementing the above function\n",
    "dfrm['form'] = dfrm['class'].apply(dependent_transform)"
   ]
  },
  {
   "cell_type": "code",
   "execution_count": 6,
   "id": "6aee282b",
   "metadata": {},
   "outputs": [],
   "source": [
    "#Initialising the independent and the dependent variable\n",
    "indp = dfrm.drop(['class','form'], axis=1)\n",
    "dp = dfrm['form']"
   ]
  },
  {
   "cell_type": "code",
   "execution_count": 8,
   "id": "88e8add1",
   "metadata": {},
   "outputs": [],
   "source": [
    "#Forming the training and test set\n",
    "X_train, X_test, Y_train, Y_test = train_test_split(indp, dp, test_size=0.20, random_state=100)"
   ]
  },
  {
   "cell_type": "code",
   "execution_count": 10,
   "id": "41019475",
   "metadata": {},
   "outputs": [],
   "source": [
    "#Tensflor feature variable conversionn\n",
    "feat_tensor = [\n",
    "            tf.feature_column.numeric_column('dec'),\n",
    "            tf.feature_column.numeric_column('u'),\n",
    "            tf.feature_column.numeric_column('g'),\n",
    "            tf.feature_column.numeric_column('ra'),\n",
    "            tf.feature_column.numeric_column('i'),\n",
    "            tf.feature_column.numeric_column('mjd'),\n",
    "            tf.feature_column.numeric_column('plate'),\n",
    "            tf.feature_column.numeric_column('redshift'),\n",
    "            tf.feature_column.numeric_column('fiberid'),\n",
    "            tf.feature_column.numeric_column('r'),\n",
    "            tf.feature_column.numeric_column('z')\n",
    "           ]"
   ]
  },
  {
   "cell_type": "code",
   "execution_count": 11,
   "id": "e1a25795",
   "metadata": {},
   "outputs": [],
   "source": [
    "#Deep Neural Network parameter definition\n",
    "def dnn_input(n_epochs,n_batches,shuffle):\n",
    "    return tf.compat.v1.estimator.inputs.pandas_input_fn(\n",
    "        x=X_train,\n",
    "        y=Y_train,\n",
    "        num_epochs=n_epochs,\n",
    "        shuffle=shuffle,\n",
    "        batch_size=n_batches\n",
    "    )"
   ]
  },
  {
   "cell_type": "code",
   "execution_count": 12,
   "id": "aa020c95",
   "metadata": {},
   "outputs": [],
   "source": [
    "#Deep Neural Network model validation\n",
    "def dnn_vldtn(n_epochs,n_batches,shuffle):\n",
    "    return tf.compat.v1.estimator.inputs.pandas_input_fn(\n",
    "        x=X_test,\n",
    "        y=Y_test,\n",
    "        num_epochs=n_epochs,\n",
    "        shuffle=shuffle,\n",
    "        batch_size=n_batches\n",
    "    )"
   ]
  },
  {
   "cell_type": "code",
   "execution_count": 13,
   "id": "5c411f2b",
   "metadata": {},
   "outputs": [
    {
     "name": "stdout",
     "output_type": "stream",
     "text": [
      "INFO:tensorflow:Using default config.\n",
      "WARNING:tensorflow:Using temporary folder as model directory: C:\\Users\\gokul\\AppData\\Local\\Temp\\tmp8q93stdc\n",
      "INFO:tensorflow:Using config: {'_model_dir': 'C:\\\\Users\\\\gokul\\\\AppData\\\\Local\\\\Temp\\\\tmp8q93stdc', '_tf_random_seed': None, '_save_summary_steps': 100, '_save_checkpoints_steps': None, '_save_checkpoints_secs': 600, '_session_config': allow_soft_placement: true\n",
      "graph_options {\n",
      "  rewrite_options {\n",
      "    meta_optimizer_iterations: ONE\n",
      "  }\n",
      "}\n",
      ", '_keep_checkpoint_max': 5, '_keep_checkpoint_every_n_hours': 10000, '_log_step_count_steps': 100, '_train_distribute': None, '_device_fn': None, '_protocol': None, '_eval_distribute': None, '_experimental_distribute': None, '_experimental_max_worker_delay_secs': None, '_session_creation_timeout_secs': 7200, '_checkpoint_save_graph_def': True, '_service': None, '_cluster_spec': ClusterSpec({}), '_task_type': 'worker', '_task_id': 0, '_global_id_in_cluster': 0, '_master': '', '_evaluation_master': '', '_is_chief': True, '_num_ps_replicas': 0, '_num_worker_replicas': 1}\n"
     ]
    }
   ],
   "source": [
    "#Tensorflow model for a Deep Neural Network\n",
    "dp_nrl_mdl = tf.estimator.DNNClassifier(n_classes=3,\n",
    "                                       feature_columns=feat_tensor,\n",
    "                                       activation_fn=tf.nn.relu,\n",
    "                                       optimizer='Adam',\n",
    "                                       hidden_units=[1024,512,256,32,3],\n",
    "                                       dropout=0.25\n",
    "                                      )"
   ]
  },
  {
   "cell_type": "code",
   "execution_count": 15,
   "id": "2393bb8a",
   "metadata": {},
   "outputs": [
    {
     "name": "stdout",
     "output_type": "stream",
     "text": [
      "INFO:tensorflow:Calling model_fn.\n",
      "INFO:tensorflow:Done calling model_fn.\n",
      "INFO:tensorflow:Create CheckpointSaverHook.\n",
      "INFO:tensorflow:Graph was finalized.\n",
      "INFO:tensorflow:Restoring parameters from C:\\Users\\gokul\\AppData\\Local\\Temp\\tmp8q93stdc\\model.ckpt-700\n",
      "WARNING:tensorflow:From C:\\Users\\gokul\\anaconda3\\lib\\site-packages\\tensorflow\\python\\training\\saver.py:1078: get_checkpoint_mtimes (from tensorflow.python.training.checkpoint_management) is deprecated and will be removed in a future version.\n",
      "Instructions for updating:\n",
      "Use standard file utilities to get mtimes.\n",
      "INFO:tensorflow:Running local_init_op.\n",
      "INFO:tensorflow:Done running local_init_op.\n",
      "INFO:tensorflow:Calling checkpoint listeners before saving checkpoint 700...\n",
      "INFO:tensorflow:Saving checkpoints for 700 into C:\\Users\\gokul\\AppData\\Local\\Temp\\tmp8q93stdc\\model.ckpt.\n",
      "INFO:tensorflow:Calling checkpoint listeners after saving checkpoint 700...\n",
      "INFO:tensorflow:loss = 0.9267006, step = 700\n",
      "INFO:tensorflow:global_step/sec: 70.7519\n",
      "INFO:tensorflow:loss = 0.90640473, step = 800 (1.421 sec)\n",
      "INFO:tensorflow:global_step/sec: 63.4234\n",
      "INFO:tensorflow:loss = 0.8947601, step = 900 (1.571 sec)\n",
      "INFO:tensorflow:global_step/sec: 73.2971\n",
      "INFO:tensorflow:loss = 0.8773994, step = 1000 (1.362 sec)\n",
      "INFO:tensorflow:global_step/sec: 78.5792\n",
      "INFO:tensorflow:loss = 0.97571075, step = 1100 (1.274 sec)\n",
      "INFO:tensorflow:global_step/sec: 71.5035\n",
      "INFO:tensorflow:loss = 0.9076704, step = 1200 (1.398 sec)\n",
      "INFO:tensorflow:global_step/sec: 70.0435\n",
      "INFO:tensorflow:loss = 0.9972182, step = 1300 (1.430 sec)\n",
      "INFO:tensorflow:global_step/sec: 75.2792\n",
      "INFO:tensorflow:loss = 0.9746569, step = 1400 (1.326 sec)\n",
      "INFO:tensorflow:global_step/sec: 70.3866\n",
      "INFO:tensorflow:loss = 0.890504, step = 1500 (1.436 sec)\n",
      "INFO:tensorflow:global_step/sec: 74.8499\n",
      "INFO:tensorflow:loss = 0.909835, step = 1600 (1.320 sec)\n",
      "INFO:tensorflow:global_step/sec: 75.0585\n",
      "INFO:tensorflow:loss = 0.86830914, step = 1700 (1.332 sec)\n",
      "INFO:tensorflow:global_step/sec: 78.7941\n",
      "INFO:tensorflow:loss = 0.9245353, step = 1800 (1.285 sec)\n",
      "INFO:tensorflow:global_step/sec: 76.7525\n",
      "INFO:tensorflow:loss = 0.94175553, step = 1900 (1.288 sec)\n",
      "INFO:tensorflow:global_step/sec: 79.8868\n",
      "INFO:tensorflow:loss = 0.9091773, step = 2000 (1.251 sec)\n",
      "INFO:tensorflow:Calling checkpoint listeners before saving checkpoint 2100...\n",
      "INFO:tensorflow:Saving checkpoints for 2100 into C:\\Users\\gokul\\AppData\\Local\\Temp\\tmp8q93stdc\\model.ckpt.\n",
      "INFO:tensorflow:Calling checkpoint listeners after saving checkpoint 2100...\n",
      "INFO:tensorflow:Loss for final step: 0.9522078.\n"
     ]
    },
    {
     "data": {
      "text/plain": [
       "<tensorflow_estimator.python.estimator.canned.dnn.DNNClassifierV2 at 0x13c1728a6a0>"
      ]
     },
     "execution_count": 15,
     "metadata": {},
     "output_type": "execute_result"
    }
   ],
   "source": [
    "#Training the Tensorflow Deep Neural Network Model\n",
    "dp_nrl_mdl.train(input_fn=dnn_input(100,128,True),steps=1400)"
   ]
  },
  {
   "cell_type": "code",
   "execution_count": 21,
   "id": "752454c2",
   "metadata": {},
   "outputs": [
    {
     "name": "stdout",
     "output_type": "stream",
     "text": [
      "INFO:tensorflow:Calling model_fn.\n",
      "INFO:tensorflow:Done calling model_fn.\n",
      "INFO:tensorflow:Starting evaluation at 2023-02-26T20:51:46\n",
      "INFO:tensorflow:Graph was finalized.\n",
      "INFO:tensorflow:Restoring parameters from C:\\Users\\gokul\\AppData\\Local\\Temp\\tmp8q93stdc\\model.ckpt-2100\n",
      "INFO:tensorflow:Running local_init_op.\n",
      "INFO:tensorflow:Done running local_init_op.\n",
      "INFO:tensorflow:Evaluation [140/1400]\n",
      "INFO:tensorflow:Evaluation [280/1400]\n",
      "INFO:tensorflow:Evaluation [420/1400]\n",
      "INFO:tensorflow:Evaluation [560/1400]\n",
      "INFO:tensorflow:Evaluation [700/1400]\n",
      "INFO:tensorflow:Evaluation [840/1400]\n",
      "INFO:tensorflow:Evaluation [980/1400]\n",
      "INFO:tensorflow:Evaluation [1120/1400]\n",
      "INFO:tensorflow:Evaluation [1260/1400]\n",
      "INFO:tensorflow:Evaluation [1400/1400]\n",
      "INFO:tensorflow:Inference Time : 6.86432s\n",
      "INFO:tensorflow:Finished evaluation at 2023-02-26-20:51:53\n",
      "INFO:tensorflow:Saving dict for global step 2100: accuracy = 0.49954242, average_loss = 0.92214197, global_step = 2100, loss = 0.92214197\n",
      "INFO:tensorflow:Saving 'checkpoint_path' summary for global step 2100: C:\\Users\\gokul\\AppData\\Local\\Temp\\tmp8q93stdc\\model.ckpt-2100\n"
     ]
    },
    {
     "data": {
      "text/plain": [
       "{'accuracy': 0.49954242,\n",
       " 'average_loss': 0.92214197,\n",
       " 'loss': 0.92214197,\n",
       " 'global_step': 2100}"
      ]
     },
     "execution_count": 21,
     "metadata": {},
     "output_type": "execute_result"
    }
   ],
   "source": [
    "#Output for Tensorflow Deep Neural Network Model\n",
    "dp_nrl_mdl.evaluate(input_fn=dnn_vldtn(100,128,True),steps=1400)"
   ]
  },
  {
   "cell_type": "code",
   "execution_count": 17,
   "id": "691a2474",
   "metadata": {},
   "outputs": [
    {
     "name": "stdout",
     "output_type": "stream",
     "text": [
      "INFO:tensorflow:Using default config.\n",
      "WARNING:tensorflow:Using temporary folder as model directory: C:\\Users\\gokul\\AppData\\Local\\Temp\\tmpp_72eaq3\n",
      "INFO:tensorflow:Using config: {'_model_dir': 'C:\\\\Users\\\\gokul\\\\AppData\\\\Local\\\\Temp\\\\tmpp_72eaq3', '_tf_random_seed': None, '_save_summary_steps': 100, '_save_checkpoints_steps': None, '_save_checkpoints_secs': 600, '_session_config': allow_soft_placement: true\n",
      "graph_options {\n",
      "  rewrite_options {\n",
      "    meta_optimizer_iterations: ONE\n",
      "  }\n",
      "}\n",
      ", '_keep_checkpoint_max': 5, '_keep_checkpoint_every_n_hours': 10000, '_log_step_count_steps': 100, '_train_distribute': None, '_device_fn': None, '_protocol': None, '_eval_distribute': None, '_experimental_distribute': None, '_experimental_max_worker_delay_secs': None, '_session_creation_timeout_secs': 7200, '_checkpoint_save_graph_def': True, '_service': None, '_cluster_spec': ClusterSpec({}), '_task_type': 'worker', '_task_id': 0, '_global_id_in_cluster': 0, '_master': '', '_evaluation_master': '', '_is_chief': True, '_num_ps_replicas': 0, '_num_worker_replicas': 1}\n"
     ]
    }
   ],
   "source": [
    "#Implementation of combination of Deep Neural Network and Linear Classifier model\n",
    "dnn_lnr_mdl = tf.estimator.DNNLinearCombinedClassifier(n_classes=3,dnn_optimizer='Adam',dnn_dropout=0.25,dnn_hidden_units=[1024,512,256,32,3],dnn_activation_fn='relu',dnn_feature_columns=feat_tensor,linear_feature_columns=feat_tensor)"
   ]
  },
  {
   "cell_type": "code",
   "execution_count": 18,
   "id": "a0acffa3",
   "metadata": {},
   "outputs": [
    {
     "name": "stdout",
     "output_type": "stream",
     "text": [
      "INFO:tensorflow:Calling model_fn.\n"
     ]
    },
    {
     "name": "stderr",
     "output_type": "stream",
     "text": [
      "C:\\Users\\gokul\\anaconda3\\lib\\site-packages\\tensorflow\\python\\keras\\engine\\base_layer_v1.py:1700: UserWarning: `layer.add_variable` is deprecated and will be removed in a future version. Please use `layer.add_weight` method instead.\n",
      "  warnings.warn('`layer.add_variable` is deprecated and '\n"
     ]
    },
    {
     "name": "stdout",
     "output_type": "stream",
     "text": [
      "WARNING:tensorflow:From C:\\Users\\gokul\\anaconda3\\lib\\site-packages\\tensorflow\\python\\keras\\optimizer_v2\\ftrl.py:148: calling Constant.__init__ (from tensorflow.python.ops.init_ops) with dtype is deprecated and will be removed in a future version.\n",
      "Instructions for updating:\n",
      "Call initializer instance with the dtype argument instead of passing it to the constructor\n",
      "INFO:tensorflow:Done calling model_fn.\n",
      "INFO:tensorflow:Create CheckpointSaverHook.\n",
      "INFO:tensorflow:Graph was finalized.\n",
      "INFO:tensorflow:Running local_init_op.\n",
      "INFO:tensorflow:Done running local_init_op.\n",
      "INFO:tensorflow:Calling checkpoint listeners before saving checkpoint 0...\n",
      "INFO:tensorflow:Saving checkpoints for 0 into C:\\Users\\gokul\\AppData\\Local\\Temp\\tmpp_72eaq3\\model.ckpt.\n",
      "INFO:tensorflow:Calling checkpoint listeners after saving checkpoint 0...\n",
      "INFO:tensorflow:loss = 697.7014, step = 0\n",
      "INFO:tensorflow:global_step/sec: 59.1157\n",
      "INFO:tensorflow:loss = 42.70555, step = 100 (1.692 sec)\n",
      "INFO:tensorflow:global_step/sec: 76.6015\n",
      "INFO:tensorflow:loss = 13.158686, step = 200 (1.305 sec)\n",
      "INFO:tensorflow:global_step/sec: 78.0024\n",
      "INFO:tensorflow:loss = 3.8514614, step = 300 (1.282 sec)\n",
      "INFO:tensorflow:global_step/sec: 70.5401\n",
      "INFO:tensorflow:loss = 2.8376093, step = 400 (1.418 sec)\n",
      "INFO:tensorflow:global_step/sec: 68.3501\n",
      "INFO:tensorflow:loss = 7.8567553, step = 500 (1.464 sec)\n",
      "INFO:tensorflow:global_step/sec: 65.965\n",
      "INFO:tensorflow:loss = 6.0288453, step = 600 (1.515 sec)\n",
      "INFO:tensorflow:global_step/sec: 70.9503\n",
      "INFO:tensorflow:loss = 0.81852025, step = 700 (1.409 sec)\n",
      "INFO:tensorflow:global_step/sec: 72.5648\n",
      "INFO:tensorflow:loss = 2.6989737, step = 800 (1.378 sec)\n",
      "INFO:tensorflow:global_step/sec: 78.6764\n",
      "INFO:tensorflow:loss = 4.824964, step = 900 (1.271 sec)\n",
      "INFO:tensorflow:global_step/sec: 77.6531\n",
      "INFO:tensorflow:loss = 3.1419392, step = 1000 (1.288 sec)\n",
      "INFO:tensorflow:global_step/sec: 75.0513\n",
      "INFO:tensorflow:loss = 2.7647963, step = 1100 (1.336 sec)\n",
      "INFO:tensorflow:global_step/sec: 73.7822\n",
      "INFO:tensorflow:loss = 2.1132941, step = 1200 (1.353 sec)\n",
      "INFO:tensorflow:global_step/sec: 67.4057\n",
      "INFO:tensorflow:loss = 2.811329, step = 1300 (1.486 sec)\n",
      "INFO:tensorflow:Calling checkpoint listeners before saving checkpoint 1400...\n",
      "INFO:tensorflow:Saving checkpoints for 1400 into C:\\Users\\gokul\\AppData\\Local\\Temp\\tmpp_72eaq3\\model.ckpt.\n",
      "INFO:tensorflow:Calling checkpoint listeners after saving checkpoint 1400...\n",
      "INFO:tensorflow:Loss for final step: 7.0599046.\n"
     ]
    },
    {
     "data": {
      "text/plain": [
       "<tensorflow_estimator.python.estimator.canned.dnn_linear_combined.DNNLinearCombinedClassifierV2 at 0x13c1a067b50>"
      ]
     },
     "execution_count": 18,
     "metadata": {},
     "output_type": "execute_result"
    }
   ],
   "source": [
    "#Training the combination of Tensorflow Deep Neural Network Model and Linear Classifier model\n",
    "dnn_lnr_mdl.train(input_fn=dnn_input(100,128,True),steps=1400)"
   ]
  },
  {
   "cell_type": "code",
   "execution_count": 19,
   "id": "7ac8d42b",
   "metadata": {},
   "outputs": [
    {
     "name": "stdout",
     "output_type": "stream",
     "text": [
      "INFO:tensorflow:Calling model_fn.\n"
     ]
    },
    {
     "name": "stderr",
     "output_type": "stream",
     "text": [
      "C:\\Users\\gokul\\anaconda3\\lib\\site-packages\\tensorflow\\python\\keras\\engine\\base_layer_v1.py:1700: UserWarning: `layer.add_variable` is deprecated and will be removed in a future version. Please use `layer.add_weight` method instead.\n",
      "  warnings.warn('`layer.add_variable` is deprecated and '\n"
     ]
    },
    {
     "name": "stdout",
     "output_type": "stream",
     "text": [
      "INFO:tensorflow:Done calling model_fn.\n",
      "INFO:tensorflow:Starting evaluation at 2023-02-26T12:59:10\n",
      "INFO:tensorflow:Graph was finalized.\n",
      "INFO:tensorflow:Restoring parameters from C:\\Users\\gokul\\AppData\\Local\\Temp\\tmpp_72eaq3\\model.ckpt-1400\n",
      "INFO:tensorflow:Running local_init_op.\n",
      "INFO:tensorflow:Done running local_init_op.\n",
      "INFO:tensorflow:Evaluation [140/1400]\n",
      "INFO:tensorflow:Evaluation [280/1400]\n",
      "INFO:tensorflow:Evaluation [420/1400]\n",
      "INFO:tensorflow:Evaluation [560/1400]\n",
      "INFO:tensorflow:Evaluation [700/1400]\n",
      "INFO:tensorflow:Evaluation [840/1400]\n",
      "INFO:tensorflow:Evaluation [980/1400]\n",
      "INFO:tensorflow:Evaluation [1120/1400]\n",
      "INFO:tensorflow:Evaluation [1260/1400]\n",
      "INFO:tensorflow:Evaluation [1400/1400]\n",
      "INFO:tensorflow:Inference Time : 7.32339s\n",
      "INFO:tensorflow:Finished evaluation at 2023-02-26-12:59:17\n",
      "INFO:tensorflow:Saving dict for global step 1400: accuracy = 0.7964453, average_loss = 2.1586633, global_step = 1400, loss = 2.1586633\n",
      "INFO:tensorflow:Saving 'checkpoint_path' summary for global step 1400: C:\\Users\\gokul\\AppData\\Local\\Temp\\tmpp_72eaq3\\model.ckpt-1400\n"
     ]
    },
    {
     "data": {
      "text/plain": [
       "{'accuracy': 0.7964453,\n",
       " 'average_loss': 2.1586633,\n",
       " 'loss': 2.1586633,\n",
       " 'global_step': 1400}"
      ]
     },
     "execution_count": 19,
     "metadata": {},
     "output_type": "execute_result"
    }
   ],
   "source": [
    "#Output for combination of Tensorflow Deep Neural Network Model and Linear Classifier model\n",
    "dnn_lnr_mdl.evaluate(input_fn=dnn_vldtn(100,128,True),steps=1400)"
   ]
  },
  {
   "cell_type": "code",
   "execution_count": null,
   "id": "4efb5031",
   "metadata": {},
   "outputs": [],
   "source": []
  }
 ],
 "metadata": {
  "kernelspec": {
   "display_name": "Python 3 (ipykernel)",
   "language": "python",
   "name": "python3"
  },
  "language_info": {
   "codemirror_mode": {
    "name": "ipython",
    "version": 3
   },
   "file_extension": ".py",
   "mimetype": "text/x-python",
   "name": "python",
   "nbconvert_exporter": "python",
   "pygments_lexer": "ipython3",
   "version": "3.9.13"
  }
 },
 "nbformat": 4,
 "nbformat_minor": 5
}
